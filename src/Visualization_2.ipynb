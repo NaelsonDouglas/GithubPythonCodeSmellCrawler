{
 "cells": [
  {
   "cell_type": "markdown",
   "id": "03afc8e9",
   "metadata": {},
   "source": [
    "# Info\n",
    "(C) convention, for programming standard violation\n",
    "\n",
    "(R) refactor, for bad code smell\n",
    "\n",
    "(W) warning, for python specific problems\n",
    "\n",
    "(E) error, for much probably bugs in the code\n",
    "\n",
    "(F) fatal, if an error occurred which prevented pylint from doing\n",
    "\n",
    "[source](https://pylint.pycqa.org/_/downloads/en/pylint-2.1.0/pdf/)\n",
    "\n",
    "http://pylint-messages.wikidot.com/all-codes\n",
    "\n",
    "https://pycodequ.al/docs/pylint-messages.html"
   ]
  },
  {
   "cell_type": "markdown",
   "id": "6ed8fd9d",
   "metadata": {},
   "source": [
    "# Environment configuration"
   ]
  },
  {
   "cell_type": "code",
   "execution_count": 1,
   "id": "7891843b",
   "metadata": {
    "scrolled": true
   },
   "outputs": [
    {
     "name": "stderr",
     "output_type": "stream",
     "text": [
      "/home/ndc/repos/GithubPythonCodeSmellCrawler/src/env/lib/python3.9/site-packages/pandas/compat/__init__.py:109: UserWarning: Could not import the lzma module. Your installed Python is incomplete. Attempting to use lzma compression will result in a RuntimeError.\n",
      "  warnings.warn(msg)\n"
     ]
    }
   ],
   "source": [
    "import pandas as pd\n",
    "from matplotlib import pyplot as plt\n",
    "import seaborn as sns\n",
    "from pylab import rcParams\n",
    "palette_color = 'Blues_r'\n",
    "colors = sns.color_palette(palette_color, as_cmap=True)\n",
    "sns.set()\n",
    "pd.set_option('display.max_rows', 100)"
   ]
  },
  {
   "cell_type": "code",
   "execution_count": 2,
   "id": "13694735",
   "metadata": {
    "scrolled": true
   },
   "outputs": [],
   "source": [
    "X0 = 6\n",
    "Y0 = 4\n",
    "\n",
    "X1 = 9\n",
    "Y1 = 6\n",
    "\n",
    "X2 = 12\n",
    "Y2 = 9\n",
    "\n",
    "X3 = 15\n",
    "Y3 = 12\n",
    "\n",
    "category_map = {'W':'Warning', 'R':'Refactor','C':'Convention'}"
   ]
  },
  {
   "cell_type": "code",
   "execution_count": 3,
   "id": "66da5baf",
   "metadata": {
    "scrolled": true
   },
   "outputs": [],
   "source": [
    "def set_plot_size(w, h):\n",
    "        rcParams['figure.figsize'] = w, h\n",
    "\n",
    "def reset_plot_size():\n",
    "    set_plot_size(X1,Y1)\n",
    "\n",
    "def make_url(row):\n",
    "    gh = 'https://github.com/'\n",
    "    file = row.filename.split('/')[1]\n",
    "    url = f'{gh}/{row.repo}/tree/{row.commit}/{file}'\n",
    "    return url\n",
    "\n",
    "def barplot(d, x, y, **kwargs):\n",
    "    plot = sns.barplot(data=d,x=x,y=y,ax=kwargs.get('ax'), hue = kwargs.get('hue'))\n",
    "    plot.set_xlabel(kwargs.get('x_label'))\n",
    "    plot.set_ylabel(kwargs.get('y_label'))\n",
    "    plot.set_title(kwargs.get('title'))\n",
    "    return plot\n",
    "\n",
    "def violinplot(d, **kwargs):\n",
    "    plot = sns.violinplot(data=d, cut=0,inner='quartile',ax=kwargs.get('ax'))    \n",
    "    plot.set_xlabel(kwargs.get('x_label'))\n",
    "    plot.set_ylabel(kwargs.get('y_label'))\n",
    "    plot.set_title(kwargs.get('title'))\n",
    "    return plot\n",
    "\n",
    "reset_plot_size()"
   ]
  },
  {
   "cell_type": "code",
   "execution_count": 4,
   "id": "3f240ead",
   "metadata": {
    "scrolled": true
   },
   "outputs": [],
   "source": [
    "df = pd.read_parquet('data.parquet')\n",
    "df = df.loc[df.symbol != 'fatal']\n",
    "df = df.loc[df.linter == 'pylint']\n",
    "df = df.reset_index(drop=True)"
   ]
  },
  {
   "cell_type": "markdown",
   "id": "5689814d",
   "metadata": {},
   "source": [
    "# Data preparation"
   ]
  },
  {
   "cell_type": "code",
   "execution_count": 5,
   "id": "80d0fdc6",
   "metadata": {
    "scrolled": true
   },
   "outputs": [],
   "source": [
    "df.filename = df.filename.apply(lambda x: x.replace('dumps/',''))\n",
    "df = df.loc[df.type.isin(['W','C','R'])]"
   ]
  },
  {
   "cell_type": "markdown",
   "id": "1f959a62",
   "metadata": {},
   "source": [
    "## Mark relevant pitfalls"
   ]
  },
  {
   "cell_type": "code",
   "execution_count": 6,
   "id": "953ff809",
   "metadata": {
    "scrolled": false
   },
   "outputs": [
    {
     "data": {
      "text/html": [
       "<div>\n",
       "<style scoped>\n",
       "    .dataframe tbody tr th:only-of-type {\n",
       "        vertical-align: middle;\n",
       "    }\n",
       "\n",
       "    .dataframe tbody tr th {\n",
       "        vertical-align: top;\n",
       "    }\n",
       "\n",
       "    .dataframe thead th {\n",
       "        text-align: right;\n",
       "    }\n",
       "</style>\n",
       "<table border=\"1\" class=\"dataframe\">\n",
       "  <thead>\n",
       "    <tr style=\"text-align: right;\">\n",
       "      <th></th>\n",
       "      <th>code</th>\n",
       "      <th>symbol</th>\n",
       "      <th>is_pitfall</th>\n",
       "    </tr>\n",
       "  </thead>\n",
       "  <tbody>\n",
       "  </tbody>\n",
       "</table>\n",
       "</div>"
      ],
      "text/plain": [
       "Empty DataFrame\n",
       "Columns: [code, symbol, is_pitfall]\n",
       "Index: []"
      ]
     },
     "execution_count": 6,
     "metadata": {},
     "output_type": "execute_result"
    }
   ],
   "source": [
    "detected_pitfalls = df.number.unique()\n",
    "all_codes = pd.read_csv('codes.csv')\n",
    "relevant_codes = all_codes.loc[all_codes.code.isin(detected_pitfalls)]\n",
    "relevant_codes = relevant_codes.loc[relevant_codes.is_pitfall != 0]\n",
    "\n",
    "#Lists if an unnanoted pitfall was detected\n",
    "relevant_codes.loc[relevant_codes.is_pitfall != 1].reset_index(drop=True)"
   ]
  },
  {
   "cell_type": "code",
   "execution_count": 32,
   "id": "1b076945",
   "metadata": {},
   "outputs": [
    {
     "data": {
      "text/html": [
       "<div>\n",
       "<style scoped>\n",
       "    .dataframe tbody tr th:only-of-type {\n",
       "        vertical-align: middle;\n",
       "    }\n",
       "\n",
       "    .dataframe tbody tr th {\n",
       "        vertical-align: top;\n",
       "    }\n",
       "\n",
       "    .dataframe thead th {\n",
       "        text-align: right;\n",
       "    }\n",
       "</style>\n",
       "<table border=\"1\" class=\"dataframe\">\n",
       "  <thead>\n",
       "    <tr style=\"text-align: right;\">\n",
       "      <th></th>\n",
       "      <th>code</th>\n",
       "      <th>symbol</th>\n",
       "      <th>is_pitfall</th>\n",
       "    </tr>\n",
       "  </thead>\n",
       "  <tbody>\n",
       "    <tr>\n",
       "      <th>0</th>\n",
       "      <td>C0102</td>\n",
       "      <td>blacklisted-name</td>\n",
       "      <td>NaN</td>\n",
       "    </tr>\n",
       "    <tr>\n",
       "      <th>1</th>\n",
       "      <td>C0103</td>\n",
       "      <td>invalid-name</td>\n",
       "      <td>1.0</td>\n",
       "    </tr>\n",
       "    <tr>\n",
       "      <th>2</th>\n",
       "      <td>C0104</td>\n",
       "      <td>disallowed-name</td>\n",
       "      <td>0.0</td>\n",
       "    </tr>\n",
       "    <tr>\n",
       "      <th>3</th>\n",
       "      <td>C0112</td>\n",
       "      <td>empty-docstring</td>\n",
       "      <td>0.0</td>\n",
       "    </tr>\n",
       "    <tr>\n",
       "      <th>4</th>\n",
       "      <td>C0113</td>\n",
       "      <td>unneeded-not</td>\n",
       "      <td>1.0</td>\n",
       "    </tr>\n",
       "    <tr>\n",
       "      <th>...</th>\n",
       "      <td>...</td>\n",
       "      <td>...</td>\n",
       "      <td>...</td>\n",
       "    </tr>\n",
       "    <tr>\n",
       "      <th>375</th>\n",
       "      <td>W1658</td>\n",
       "      <td>deprecated-urllib-function</td>\n",
       "      <td>NaN</td>\n",
       "    </tr>\n",
       "    <tr>\n",
       "      <th>376</th>\n",
       "      <td>W1659</td>\n",
       "      <td>xreadlines-attribute</td>\n",
       "      <td>NaN</td>\n",
       "    </tr>\n",
       "    <tr>\n",
       "      <th>377</th>\n",
       "      <td>W1660</td>\n",
       "      <td>deprecated-sys-function</td>\n",
       "      <td>NaN</td>\n",
       "    </tr>\n",
       "    <tr>\n",
       "      <th>378</th>\n",
       "      <td>W1661</td>\n",
       "      <td>exception-escape</td>\n",
       "      <td>NaN</td>\n",
       "    </tr>\n",
       "    <tr>\n",
       "      <th>379</th>\n",
       "      <td>W1662</td>\n",
       "      <td>comprehension-escape</td>\n",
       "      <td>NaN</td>\n",
       "    </tr>\n",
       "  </tbody>\n",
       "</table>\n",
       "<p>380 rows × 3 columns</p>\n",
       "</div>"
      ],
      "text/plain": [
       "      code                      symbol  is_pitfall\n",
       "0    C0102            blacklisted-name         NaN\n",
       "1    C0103                invalid-name         1.0\n",
       "2    C0104             disallowed-name         0.0\n",
       "3    C0112             empty-docstring         0.0\n",
       "4    C0113                unneeded-not         1.0\n",
       "..     ...                         ...         ...\n",
       "375  W1658  deprecated-urllib-function         NaN\n",
       "376  W1659        xreadlines-attribute         NaN\n",
       "377  W1660     deprecated-sys-function         NaN\n",
       "378  W1661            exception-escape         NaN\n",
       "379  W1662        comprehension-escape         NaN\n",
       "\n",
       "[380 rows x 3 columns]"
      ]
     },
     "execution_count": 32,
     "metadata": {},
     "output_type": "execute_result"
    }
   ],
   "source": [
    "new_codes = pd.read_csv('new_codes.csv')\n",
    "all_codes\n",
    "new_codes = new_codes.loc[~new_codes.code.isin(all_codes.code)]\n",
    "new_codes['is_pitfall'] = None\n",
    "all_codes = pd.concat([all_codes,new_codes])\n",
    "all_codes = all_codes.sort_values(by='code').reset_index(drop=True)\n",
    "all_codes.to_csv('')\n"
   ]
  },
  {
   "cell_type": "code",
   "execution_count": 7,
   "id": "4a9037fa",
   "metadata": {},
   "outputs": [],
   "source": [
    "relevant_codes = relevant_codes.loc[relevant_codes.is_pitfall == 1].reset_index(drop = True)\n",
    "relevant_codes.drop(columns = ['is_pitfall']).to_csv('relevant_codes.csv', index=False)"
   ]
  },
  {
   "cell_type": "code",
   "execution_count": 8,
   "id": "b3c61c11",
   "metadata": {},
   "outputs": [],
   "source": [
    "df = df.loc[df.number.isin(relevant_codes.code)].reset_index(drop=True)"
   ]
  },
  {
   "cell_type": "code",
   "execution_count": 9,
   "id": "8505322d",
   "metadata": {
    "scrolled": true
   },
   "outputs": [],
   "source": [
    "#df['url'] = df.apply(make_url, axis=1)\n",
    "w = df.loc[df.type == 'W']\n",
    "c = df.loc[df.type == 'C']\n",
    "r = df.loc[df.type == 'R']"
   ]
  },
  {
   "cell_type": "markdown",
   "id": "e0f5d3b4",
   "metadata": {},
   "source": [
    "# Data overview"
   ]
  },
  {
   "cell_type": "code",
   "execution_count": 10,
   "id": "85c84fbb",
   "metadata": {
    "scrolled": true
   },
   "outputs": [
    {
     "name": "stdout",
     "output_type": "stream",
     "text": [
      "Total of repositories analyzed: 143\n"
     ]
    }
   ],
   "source": [
    "amount_repos = len(df.repo.unique())\n",
    "print(f'Total of repositories analyzed: {amount_repos}')"
   ]
  },
  {
   "cell_type": "markdown",
   "id": "d9fa3beb",
   "metadata": {},
   "source": [
    "## Distribution by kind of flaw"
   ]
  },
  {
   "cell_type": "markdown",
   "id": "9bbe2108",
   "metadata": {},
   "source": [
    "## Code counts"
   ]
  },
  {
   "cell_type": "code",
   "execution_count": 11,
   "id": "ba82718c",
   "metadata": {
    "scrolled": false
   },
   "outputs": [
    {
     "data": {
      "text/plain": [
       "[Text(0, 0.0, ''),\n",
       " Text(0, 500.0, ''),\n",
       " Text(0, 1000.0, ''),\n",
       " Text(0, 1500.0, ''),\n",
       " Text(0, 2000.0, ''),\n",
       " Text(0, 2500.0, ''),\n",
       " Text(0, 3000.0, ''),\n",
       " Text(0, 3500.0, ''),\n",
       " Text(0, 4000.0, '')]"
      ]
     },
     "execution_count": 11,
     "metadata": {},
     "output_type": "execute_result"
    },
    {
     "data": {
      "image/png": "[encoded data removed]",
      "text/plain": [
       "<Figure size 864x648 with 4 Axes>"
      ]
     },
     "metadata": {},
     "output_type": "display_data"
    }
   ],
   "source": [
    "set_plot_size(X2,Y2)\n",
    "\n",
    "code_counts = df.number.value_counts().reset_index()\n",
    "code_counts.columns = ['code', 'count']\n",
    "code_counts = code_counts.sort_values(by='count', ascending=True)\n",
    "code_counts = code_counts.reset_index(drop=True)\n",
    "\n",
    "fig, ((ax0, ax1), (ax2, ax3)) = plt.subplots(2,2)\n",
    "\n",
    "\n",
    "fig.suptitle('Overview into the analyzed data.')\n",
    "#General violinplot\n",
    "violinplot(code_counts['count'].values,\n",
    "           title = 'Distribution of the pitfalls.',\n",
    "           y_label = 'Distribution',           \n",
    "           ax = ax0\n",
    "          )\n",
    "ax0.set_xticks([])\n",
    "\n",
    "#Category barplot\n",
    "category_counts = df.type.value_counts().reset_index()\n",
    "category_counts.columns = ['category','count']\n",
    "category_counts.category = category_counts.category.apply(lambda x : category_map[x])\n",
    "barplot(category_counts,\n",
    "        x = 'category',\n",
    "        y = 'count',\n",
    "        y_label = 'Count',\n",
    "        title = 'Amount of pitfalls into each category.',\n",
    "        hue = 'category',\n",
    "        ax = ax1\n",
    "       )\n",
    "ax1.set_yticklabels([])\n",
    "ax1.set_xticklabels([])\n",
    "\n",
    "#General barplot\n",
    "barplot(code_counts,\n",
    "        x = 'code',\n",
    "        y_label = 'Count',\n",
    "        x_label = 'Pitfall codes',\n",
    "        y = 'count',\n",
    "        title = 'Individual amount of pitfalls by code.',\n",
    "        ax=ax2\n",
    "       )\n",
    "ax2.set_xticks([])\n",
    "\n",
    "\n",
    "#Zoom barplot\n",
    "amount = 20\n",
    "bigger = code_counts.tail(amount)\n",
    "right = barplot(bigger,\n",
    "                x = 'code',\n",
    "                y = 'count',\n",
    "                y_label = 'Count',\n",
    "                title = f'Zoom-in on the top {amount} pitfalls.',\n",
    "                ax = ax3\n",
    "               )\n",
    "ax3.tick_params(axis = 'x', labelrotation = 45 )\n",
    "ax3.set_yticklabels([])"
   ]
  },
  {
   "cell_type": "markdown",
   "id": "3c27793b",
   "metadata": {},
   "source": [
    "# Playground"
   ]
  },
  {
   "cell_type": "code",
   "execution_count": null,
   "id": "0b4b8397",
   "metadata": {
    "scrolled": true
   },
   "outputs": [],
   "source": []
  }
 ],
 "metadata": {
  "kernelspec": {
   "display_name": "Python 3",
   "language": "python",
   "name": "python3"
  },
  "language_info": {
   "codemirror_mode": {
    "name": "ipython",
    "version": 3
   },
   "file_extension": ".py",
   "mimetype": "text/x-python",
   "name": "python",
   "nbconvert_exporter": "python",
   "pygments_lexer": "ipython3",
   "version": "3.9.5"
  }
 },
 "nbformat": 4,
 "nbformat_minor": 5
}
